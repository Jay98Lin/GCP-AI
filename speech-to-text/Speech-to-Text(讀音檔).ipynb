{
 "cells": [
  {
   "cell_type": "markdown",
   "id": "e30d9b65",
   "metadata": {},
   "source": [
    "# Speech-to-Text Application feat. Google Cloud Speech-to-Text API"
   ]
  },
  {
   "cell_type": "code",
   "execution_count": 3,
   "id": "5b396f0a",
   "metadata": {
    "scrolled": true
   },
   "outputs": [],
   "source": [
    "import os\n",
    "\n",
    "from google.cloud import speech, storage\n",
    "\n",
    "YOUR_SERVICE = 'gcpai.json'\n",
    "YOUR_AUDIO = '新年快樂.mp3'\n",
    "YOUR_BUCKET = 'gcpai-jay'\n",
    "\n",
    "storage_client = storage.Client.from_service_account_json('gcpai.json')\n",
    "os.environ['GOOGLE_APPLICATION_CREDENTIALS'] = 'gcpai.json'\n",
    "speech_client = speech.SpeechClient()"
   ]
  },
  {
   "cell_type": "code",
   "execution_count": 4,
   "id": "9d754295",
   "metadata": {},
   "outputs": [],
   "source": [
    "\n",
    "# upload file to GCS(Google Cloud Storage)\n",
    "bucket = storage_client.bucket('gcpai-jay')\n"
   ]
  },
  {
   "cell_type": "code",
   "execution_count": 5,
   "id": "f5b107bf",
   "metadata": {},
   "outputs": [],
   "source": [
    "b= bucket.blob('新年快樂.mp3')"
   ]
  },
  {
   "cell_type": "code",
   "execution_count": null,
   "id": "ad50570d",
   "metadata": {},
   "outputs": [],
   "source": [
    "b.upload_from_filename('新年快樂.mp3')"
   ]
  },
  {
   "cell_type": "code",
   "execution_count": 7,
   "id": "7c955e16",
   "metadata": {},
   "outputs": [],
   "source": [
    "uri = 'gs://gcpai-jay/新年快樂.mp3'\n",
    "#gcpai-jay/新年快樂.mp3"
   ]
  },
  {
   "cell_type": "code",
   "execution_count": 8,
   "id": "ce3cc3bd",
   "metadata": {},
   "outputs": [],
   "source": [
    "# transcript the audio\n",
    "audio = speech.RecognitionAudio(uri=uri)\n",
    "config = speech.RecognitionConfig(\n",
    "    encoding=speech.RecognitionConfig.AudioEncoding.MP3,  # MP3 is under beta\n",
    "    sample_rate_hertz=44100,\n",
    "    audio_channel_count=2,  # take care, default is 1\n",
    "    language_code=\"zh-TW\",\n",
    "    max_alternatives=5\n",
    ")"
   ]
  },
  {
   "cell_type": "code",
   "execution_count": 9,
   "id": "a119cdf8",
   "metadata": {},
   "outputs": [],
   "source": [
    "response = speech_client.recognize(config=config, audio=audio)"
   ]
  },
  {
   "cell_type": "code",
   "execution_count": 40,
   "id": "7a1e3b4d",
   "metadata": {},
   "outputs": [
    {
     "data": {
      "text/plain": [
       "'你好你好新年快樂'"
      ]
     },
     "execution_count": 40,
     "metadata": {},
     "output_type": "execute_result"
    }
   ],
   "source": [
    "response.results[0].alternatives[0].transcript"
   ]
  },
  {
   "cell_type": "code",
   "execution_count": 44,
   "id": "f8eed272",
   "metadata": {},
   "outputs": [
    {
     "data": {
      "text/plain": [
       "results {\n",
       "  alternatives {\n",
       "    transcript: \"你好你好新年快樂\"\n",
       "    confidence: 0.925998807\n",
       "  }\n",
       "  result_end_time {\n",
       "    seconds: 4\n",
       "    nanos: 770000000\n",
       "  }\n",
       "  language_code: \"cmn-hant-tw\"\n",
       "}\n",
       "total_billed_time {\n",
       "  seconds: 5\n",
       "}\n",
       "request_id: 5559213002380461451"
      ]
     },
     "execution_count": 44,
     "metadata": {},
     "output_type": "execute_result"
    }
   ],
   "source": [
    "response"
   ]
  },
  {
   "cell_type": "code",
   "execution_count": 30,
   "id": "836b1dcb",
   "metadata": {},
   "outputs": [
    {
     "name": "stdout",
     "output_type": "stream",
     "text": [
      "你好你好新年快樂, 0.926\n"
     ]
    }
   ],
   "source": [
    "for r in response.results:\n",
    "    print(f'{r.alternatives[0].transcript}, {r.alternatives[0].confidence:.3f}')"
   ]
  }
 ],
 "metadata": {
  "kernelspec": {
   "display_name": "Python 3 (ipykernel)",
   "language": "python",
   "name": "python3"
  },
  "language_info": {
   "codemirror_mode": {
    "name": "ipython",
    "version": 3
   },
   "file_extension": ".py",
   "mimetype": "text/x-python",
   "name": "python",
   "nbconvert_exporter": "python",
   "pygments_lexer": "ipython3",
   "version": "3.8.10"
  }
 },
 "nbformat": 4,
 "nbformat_minor": 5
}
