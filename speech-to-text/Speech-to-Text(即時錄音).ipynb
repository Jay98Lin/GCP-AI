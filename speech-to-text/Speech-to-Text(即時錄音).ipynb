{
 "cells": [
  {
   "cell_type": "markdown",
   "id": "e30d9b65",
   "metadata": {},
   "source": [
    "# Speech-to-Text Application feat. Google Cloud Speech-to-Text API"
   ]
  },
  {
   "cell_type": "code",
   "execution_count": 15,
   "id": "9b8b9ec2",
   "metadata": {},
   "outputs": [
    {
     "name": "stdout",
     "output_type": "stream",
     "text": [
      "Recording...\n",
      "Done\n"
     ]
    }
   ],
   "source": [
    "import wave\n",
    "import sys\n",
    "\n",
    "import pyaudio\n",
    "\n",
    "CHUNK = 1024\n",
    "FORMAT = pyaudio.paInt16\n",
    "CHANNELS = 1 if sys.platform == 'darwin' else 2\n",
    "RATE = 44100\n",
    "RECORD_SECONDS = 5\n",
    "\n",
    "with wave.open('output.wav', 'wb') as wf:\n",
    "    p = pyaudio.PyAudio()\n",
    "    wf.setnchannels(CHANNELS)\n",
    "    wf.setsampwidth(p.get_sample_size(FORMAT))\n",
    "    wf.setframerate(RATE)\n",
    "\n",
    "    stream = p.open(format=FORMAT, channels=CHANNELS, rate=RATE, input=True)\n",
    "\n",
    "    print('Recording...')\n",
    "    for _ in range(0, RATE // CHUNK * RECORD_SECONDS):\n",
    "        data= stream.read(CHUNK)\n",
    "        wf.writeframes(data)\n",
    "    print('Done')\n",
    "\n",
    "    stream.close()\n",
    "    p.terminate()"
   ]
  },
  {
   "cell_type": "code",
   "execution_count": 16,
   "id": "7eb1a790",
   "metadata": {
    "scrolled": true
   },
   "outputs": [
    {
     "data": {
      "text/plain": [
       "4096"
      ]
     },
     "execution_count": 16,
     "metadata": {},
     "output_type": "execute_result"
    }
   ],
   "source": [
    "len(data)"
   ]
  },
  {
   "cell_type": "code",
   "execution_count": 26,
   "id": "1bf73258",
   "metadata": {},
   "outputs": [
    {
     "name": "stdout",
     "output_type": "stream",
     "text": [
      "请开始说话...\n",
      "录音结束，正在识别...\n",
      "识别结果：開始一想二里共三夫子不識四書五經都已經感覺七八九十分大概就是9瓶做的吧長7600分5號三心二意一等下就讀不下午就小書僮可笑可笑起來都不將就是你將軍提防提防車車禍\n"
     ]
    }
   ],
   "source": [
    "from google.cloud import speech\n",
    "import os\n",
    "import pyaudio\n",
    "import io\n",
    "\n",
    "# 设置Google Cloud凭据环境变量\n",
    "os.environ[\"GOOGLE_APPLICATION_CREDENTIALS\"] = \"gcpai.json\"\n",
    "\n",
    "client = speech.SpeechClient()\n",
    "\n",
    "# 音频录制参数\n",
    "RATE = 16000\n",
    "CHUNK = int(RATE / 10)  # 100ms\n",
    "\n",
    "def record_and_recognize_audio():\n",
    "    p = pyaudio.PyAudio()\n",
    "    stream = p.open(format=pyaudio.paInt16,\n",
    "                    channels=1,\n",
    "                    rate=RATE,\n",
    "                    input=True,\n",
    "                    frames_per_buffer=CHUNK)\n",
    "\n",
    "    print(\"请开始说话...\")\n",
    "\n",
    "    # 录制短暂的音频片段\n",
    "    frames = []\n",
    "    for _ in range(0, int(RATE / CHUNK * 25)):  # 5 seconds\n",
    "        data = stream.read(CHUNK)\n",
    "        frames.append(data)\n",
    "\n",
    "    print(\"录音结束，正在识别...\")\n",
    "\n",
    "    # 停止录音\n",
    "    stream.stop_stream()\n",
    "    stream.close()\n",
    "    p.terminate()\n",
    "\n",
    "    # 将录音数据转换为音频文件\n",
    "    audio = speech.RecognitionAudio(content=b''.join(frames))\n",
    "    config = speech.RecognitionConfig(\n",
    "        encoding=speech.RecognitionConfig.AudioEncoding.LINEAR16,\n",
    "        sample_rate_hertz=RATE,\n",
    "        language_code=\"zh-TW\"  # 假设语音为中文\n",
    "    )\n",
    "\n",
    "    # 识别音频文件\n",
    "    response = client.recognize(config=config, audio=audio)\n",
    "\n",
    "    for result in response.results:\n",
    "        print(\"识别结果：{}\".format(result.alternatives[0].transcript))\n",
    "\n",
    "record_and_recognize_audio()"
   ]
  },
  {
   "cell_type": "code",
   "execution_count": null,
   "id": "5990d896",
   "metadata": {},
   "outputs": [],
   "source": [
    "from google.cloud import speech\n",
    "import os\n",
    "import pyaudio\n",
    "import io\n",
    "from pydub import AudioSegment\n",
    "import threading\n",
    "\n",
    "AudioSegment.converter = r\"C:\\ffmpeg-6.1.1-full_build\\bin\\ffmpeg.exe\"\n",
    "\n",
    "# 设置Google Cloud凭据环境变量\n",
    "os.environ[\"GOOGLE_APPLICATION_CREDENTIALS\"] = \"gcpai.json\"\n",
    "\n",
    "# 音频录制参数\n",
    "RATE = 16000\n",
    "CHUNK = int(RATE / 10)  # 100ms\n",
    "FORMAT = pyaudio.paInt16\n",
    "CHANNELS = 1\n",
    "\n",
    "# 用于控制录音的全局变量\n",
    "is_recording = True\n",
    "\n",
    "def record_audio(queue):\n",
    "    p = pyaudio.PyAudio()\n",
    "    stream = p.open(format=FORMAT,\n",
    "                    channels=CHANNELS,\n",
    "                    rate=RATE,\n",
    "                    input=True,\n",
    "                    frames_per_buffer=CHUNK)\n",
    "\n",
    "    print(\"请开始说话...（按's'键然后回车停止录音）\")\n",
    "\n",
    "    frames = []\n",
    "\n",
    "    while is_recording:\n",
    "        data = stream.read(CHUNK)\n",
    "        frames.append(data)\n",
    "\n",
    "    # 停止录音\n",
    "    stream.stop_stream()\n",
    "    stream.close()\n",
    "    p.terminate()\n",
    "\n",
    "    # 将录音数据放入队列中\n",
    "    queue.append(b''.join(frames))\n",
    "\n",
    "def save_audio(queue):\n",
    "    # 等待录音结束\n",
    "    while is_recording or not queue:\n",
    "        pass\n",
    "    \n",
    "    # 转换为AudioSegment\n",
    "    audio_segment = AudioSegment(\n",
    "        data=queue[0],\n",
    "        sample_width=pyaudio.PyAudio().get_sample_size(FORMAT),\n",
    "        frame_rate=RATE,\n",
    "        channels=CHANNELS\n",
    "    )\n",
    "    \n",
    "    # 保存为MP3\n",
    "    audio_segment.export(\"recorded_audio2.mp3\", format=\"mp3\")\n",
    "    print(\"录音已保存为MP3\")\n",
    "\n",
    "def main():\n",
    "    global is_recording\n",
    "    audio_queue = []\n",
    "\n",
    "    # 开始录音的线程\n",
    "    record_thread = threading.Thread(target=record_audio, args=(audio_queue,))\n",
    "    record_thread.start()\n",
    "\n",
    "    # 等待用户输入停止录音的指令\n",
    "    if input() == 's':\n",
    "        is_recording = False\n",
    "        record_thread.join()\n",
    "    \n",
    "    # 保存音频为MP3的线程\n",
    "    save_thread = threading.Thread(target=save_audio, args=(audio_queue,))\n",
    "    save_thread.start()\n",
    "    save_thread.join()\n",
    "\n",
    "    print(\"录音结束，正在识别...\")\n",
    "\n",
    "if __name__ == \"__main__\":\n",
    "    main()"
   ]
  }
 ],
 "metadata": {
  "kernelspec": {
   "display_name": "Python 3 (ipykernel)",
   "language": "python",
   "name": "python3"
  },
  "language_info": {
   "codemirror_mode": {
    "name": "ipython",
    "version": 3
   },
   "file_extension": ".py",
   "mimetype": "text/x-python",
   "name": "python",
   "nbconvert_exporter": "python",
   "pygments_lexer": "ipython3",
   "version": "3.8.10"
  }
 },
 "nbformat": 4,
 "nbformat_minor": 5
}
